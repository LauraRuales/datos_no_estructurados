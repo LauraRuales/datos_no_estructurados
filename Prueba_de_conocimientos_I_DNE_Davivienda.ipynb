{
 "cells": [
  {
   "cell_type": "markdown",
   "metadata": {
    "id": "nRAe41rkGhGc"
   },
   "source": [
    "<p><img alt=\"Colaboratory logo\" height=\"65px\" src=\"https://upload.wikimedia.org/wikipedia/en/thumb/b/b1/Davivienda_logo.svg/1200px-Davivienda_logo.svg.png\" align=\"left\" hspace=\"10px\" width=\"20%\" vspace=\"15px\"></p>\n",
    "\n",
    "<h1 align=\"center\"> Prueba Técnica Profesional III Departamento de Datos no Estructurados  </h1>\n"
   ]
  },
  {
   "cell_type": "markdown",
   "metadata": {
    "id": "418c8444"
   },
   "source": [
    "<p style=»text-align: justify;»>\n",
    "El Departamento de Analítica No estructurada busca profesionales con fuertes capacidades técnicas y sobretodo una fuerte capacidad analítica. Por consiguiente esta prueba intenta poner a prueba la forma en la que plantea y soluciona problmeas. Es importante que presente el código que usa para resolver el problema con el único motivo de medir sus capacidades.\n",
    "\n",
    "Se recomienda que sea ordenado en su código y siga los lineamientos establecidos, aún así la prueba tiene un grado de flexibilidad. Se evaluará el orden y la creatividad a la hora de presentar la información. \n",
    "</p>\n",
    "\n",
    "\n",
    "**Nota** <br>\n",
    "Tenga en cuneta que éste ejercicio es hipotético y el banco no usará su trabajo más que para evaluar sus habiliadades para el cargo\n"
   ]
  },
  {
   "cell_type": "markdown",
   "metadata": {
    "id": "MRRXB1kbbvOz"
   },
   "source": [
    "#### **Objetivo**\n",
    "El objetivo de esta prueba es lograr un filtro que discrimine automáticamente un tipo de documento sin información relevante: páginas en blanco. Se busca que este filtro reciba como entrada una carpeta con imágenes de documentos diversos y produzca como salida dos carpetas, una con imágenes de páginas en blanco y otra con imágenes de páginas con contenido.\n",
    "\n",
    "Páginas con solo el membrete del documento se consideran páginas en blanco, así como las que, al momento de ser escaneadas, alcanzan a reflejar contenido ininteligible del reverso de la página."
   ]
  },
  {
   "cell_type": "markdown",
   "metadata": {
    "id": "QXEgCPkGbYIG"
   },
   "source": [
    "## Clasificación de Imágenes"
   ]
  },
  {
   "cell_type": "code",
   "execution_count": 34,
   "metadata": {},
   "outputs": [],
   "source": [
    "import os\n",
    "import numpy as np\n",
    "\n",
    "from skimage.io import imread\n",
    "from skimage import color\n",
    "from skimage.transform import resize\n",
    "from sklearn.model_selection import train_test_split\n"
   ]
  },
  {
   "cell_type": "markdown",
   "metadata": {
    "id": "Cs3WaXmZG0uj"
   },
   "source": [
    "### 1.Importe las imágenes\n",
    "En la carpeta adjunta se encontrará con documentos tanto en blanco como con contenido. Su objetivo es generar un modelo que clasifique los elementos en \"Con Contenido\" y \"Sin Contenido\". Para eso puede utilizar reglas o modelos especificos."
   ]
  },
  {
   "cell_type": "code",
   "execution_count": null,
   "metadata": {
    "id": "DtNZ9d40gPb4"
   },
   "outputs": [
    {
     "name": "stdout",
     "output_type": "stream",
     "text": [
      "Blanco\n",
      "Documentos\n"
     ]
    }
   ],
   "source": [
    "data = dict()\n",
    "data['label'] = []\n",
    "data['data'] = []   \n",
    "\n",
    "src = os.getcwd()\n",
    "include = ['Documentos','Blanco']\n",
    "\n",
    "# read all images in PATH, resize and write to DESTINATION_PATH\n",
    "for subdir in os.listdir(src):\n",
    "    if subdir in include:\n",
    "        print(subdir)\n",
    "        current_path = os.path.join(src, subdir)\n",
    "\n",
    "        for file in os.listdir(current_path):\n",
    "            if file[-3:] in {'jpg', 'png'}:\n",
    "                im = imread(os.path.join(current_path, file))\n",
    "                if np.ndim(im)== 3:\n",
    "                    if np.shape(im)[2] == 4:\n",
    "                        im = color.rgba2rgb(im)\n",
    "                    im = color.rgb2gray(im)\n",
    "                \n",
    "                im = resize(im, (1700, 1000)) #[:,:,::-1]\n",
    "                data['label'].append(subdir[:-4])\n",
    "                data['data'].append(im)"
   ]
  },
  {
   "cell_type": "markdown",
   "metadata": {
    "id": "ut1ODmgseSFj"
   },
   "source": [
    "### 2. Estructure la información\n",
    "Debido a que las imagenes son archivos separados lo primero que debe hacer es importarlas (recuerde que una imagen es esencialmente un arreglo de vectores), puede esturcturarlas a su gusto y marcar de ser necesario aquellas que va usar como test de pruebas. "
   ]
  },
  {
   "cell_type": "code",
   "execution_count": null,
   "metadata": {
    "id": "wuuqBCTKGtKU",
    "scrolled": true
   },
   "outputs": [],
   "source": [
    "X = np.array(data['data'])\n",
    "y = np.array(data['label'])\n",
    "\n",
    "\n",
    " \n",
    "X_train, X_test, y_train, y_test = train_test_split(\n",
    "    X, \n",
    "    y, \n",
    "    test_size=0.2, \n",
    "    shuffle=True,\n",
    "    random_state=42,\n",
    ")"
   ]
  },
  {
   "cell_type": "code",
   "execution_count": null,
   "metadata": {},
   "outputs": [],
   "source": [
    "def plot_bar(y, loc='left', relative=True):\n",
    "    width = 0.35\n",
    "    if loc == 'left':\n",
    "        n = -0.5\n",
    "    elif loc == 'right':\n",
    "        n = 0.5\n",
    "     \n",
    "    # calculate counts per type and sort, to ensure their order\n",
    "    unique, counts = np.unique(y, return_counts=True)\n",
    "    sorted_index = np.argsort(unique)\n",
    "    unique = unique[sorted_index]\n",
    "     \n",
    "    if relative:\n",
    "        # plot as a percentage\n",
    "        counts = 100*counts[sorted_index]/len(y)\n",
    "        ylabel_text = '% count'\n",
    "    else:\n",
    "        # plot counts\n",
    "        counts = counts[sorted_index]\n",
    "        ylabel_text = 'count'\n",
    "         \n",
    "    xtemp = np.arange(len(unique))\n",
    "     \n",
    "    plt.bar(xtemp + n*width, counts, align='center', alpha=.7, width=width)\n",
    "    plt.xticks(xtemp, unique, rotation=45)\n",
    "    plt.xlabel('equipment type')\n",
    "    plt.ylabel(ylabel_text)\n",
    " \n",
    "plt.suptitle('relative amount of photos per type')\n",
    "plot_bar(y_train, loc='left')\n",
    "plot_bar(y_test, loc='right')\n",
    "plt.legend([\n",
    "    'train ({0} photos)'.format(len(y_train)), \n",
    "    'test ({0} photos)'.format(len(y_test))\n",
    "]);"
   ]
  },
  {
   "cell_type": "markdown",
   "metadata": {
    "id": "SxK-QGJ1KeaY"
   },
   "source": [
    "### 3. Describa su Estrategia de Análisis\n",
    "<p>Tiene libertad en la metodología para la clasificación. Aún así debe describir brevemente como realizará el análisis. Por ejemplo, si usará un modelo en donde requiera clasificar una cantidad pequeña de la data mencionelo o si planea condicionar la clasifiaciónes a reglas indique que reglas usará. Además si usa herramientas externas describalas y explique. </p>\n"
   ]
  },
  {
   "cell_type": "code",
   "execution_count": null,
   "metadata": {
    "id": "Ja9figXzbTNX"
   },
   "outputs": [],
   "source": [
    "from sklearn.svm import SVC\n",
    "from sklearn.neighbors import KNeighborsClassifier\n",
    "from sklearn import tree\n",
    "from sklearn.neural_network import MLPClassifier\n",
    "from sklearn.neighbors import KNeighborsClassifier\n",
    "from sklearn.ensemble import GradientBoostingClassifier\n",
    "from sklearn.gaussian_process.kernels import RBF\n",
    "from sklearn.ensemble import RandomForestClassifier\n",
    "from sklearn.naive_bayes import GaussianNB"
   ]
  },
  {
   "cell_type": "markdown",
   "metadata": {
    "id": "8Dp_gy0lEfDZ"
   },
   "source": [
    "### 4. Interpretación de Reusultados\n",
    "<p>Al final tiene que presentar la información en una matriz que muestre la calidad de su clasificación y evaluarla con la medida que guste. </p>\n",
    "<br>\n",
    "<img src=\"https://www.ecured.cu/images/3/31/Matrices_de_confusi%C3%B3n.png\" >"
   ]
  }
 ],
 "metadata": {
  "colab": {
   "name": "Prueba_de_conocimientos_I_DNE_Davivienda.ipynb",
   "provenance": []
  },
  "kernelspec": {
   "display_name": "Python 3",
   "language": "python",
   "name": "python3"
  },
  "language_info": {
   "codemirror_mode": {
    "name": "ipython",
    "version": 3
   },
   "file_extension": ".py",
   "mimetype": "text/x-python",
   "name": "python",
   "nbconvert_exporter": "python",
   "pygments_lexer": "ipython3",
   "version": "3.8.5"
  }
 },
 "nbformat": 4,
 "nbformat_minor": 5
}
